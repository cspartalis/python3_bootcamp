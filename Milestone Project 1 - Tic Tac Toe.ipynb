{
 "cells": [
  {
   "cell_type": "markdown",
   "metadata": {},
   "source": [
    "## Milestone Project 1 - Tic Tac Toe\n",
    "\n",
    "The requirements:\n",
    "* 2 players should be able to play the game (both sitting at the same computer)\n",
    "* The board should be printed out every time a player makes a move\n",
    "* You should be able to accept input of the player position and then place a symbol on the board"
   ]
  },
  {
   "cell_type": "code",
   "execution_count": null,
   "metadata": {},
   "outputs": [],
   "source": [
    "from IPython.display import clear_output\n",
    "\n",
    "def display_board(board):\n",
    "    '''\n",
    "    INPUT: a 3x3 list that hold the mark (X or O) of every cell on the board\n",
    "    OUTPUT: prints the board\n",
    "    '''\n",
    "    clear_output()\n",
    "    print('{} | {} | {}\\n'.format(board[7],board[8],board[9]))\n",
    "    print('{} | {} | {}\\n'.format(board[4],board[5],board[6]))\n",
    "    print('{} | {} | {}\\n'.format(board[1],board[2],board[3]))"
   ]
  },
  {
   "cell_type": "code",
   "execution_count": null,
   "metadata": {},
   "outputs": [],
   "source": [
    "def player1_chooses_mark():\n",
    "    '''\n",
    "    OUTPUT: Returns a tpule with the marks of player1 and player2\n",
    "    '''\n",
    "    \n",
    "    while True:\n",
    "        answer = input('Player1 choose mark (X or O):').upper()\n",
    "        if answer == 'X':\n",
    "            mark_1 = 'X'\n",
    "            mark_2 = 'O'\n",
    "            break\n",
    "        elif answer == 'O':\n",
    "            mark_1 = 'O'\n",
    "            mark_2 = 'X'\n",
    "            break\n",
    "    \n",
    "    return (mark_1, mark_2)        "
   ]
  },
  {
   "cell_type": "code",
   "execution_count": null,
   "metadata": {
    "scrolled": true
   },
   "outputs": [],
   "source": [
    "def input_mark(board, mark):\n",
    "    '''\n",
    "    INPUTS: 1. mark (X or O)\n",
    "            2. ttt board\n",
    "    '''\n",
    "    while True:\n",
    "        position = (input(\"Choose position: \"))\n",
    "        if position != '':\n",
    "            position_int = int(position)    #casting\n",
    "            if (position_int in range(1,10) and board[position_int].isspace()):\n",
    "                board[position_int] = mark\n",
    "                break"
   ]
  },
  {
   "cell_type": "code",
   "execution_count": null,
   "metadata": {},
   "outputs": [],
   "source": [
    "def no_spaces(my_list):\n",
    "    '''\n",
    "    INPUT: a list\n",
    "    OUTPUT: True if there is at least one space in the list, False otherwise\n",
    "    '''\n",
    "    bool = True\n",
    "    for i in range(1,10):    # we want to exclude the first obj which is always space\n",
    "        if my_list[i].isspace():\n",
    "            bool = False\n",
    "            break\n",
    "    \n",
    "    return bool          "
   ]
  },
  {
   "cell_type": "code",
   "execution_count": null,
   "metadata": {},
   "outputs": [],
   "source": [
    "def check_state(board, state):\n",
    "    '''\n",
    "    INPUT: ttt board\n",
    "    OUTPUT: state (win or tie or the game continues)\n",
    "    '''\n",
    "    # row3to1 column3to1 diagonal1and2\n",
    "    if (board[1]==board[2]==board[3]!=' ') or\\\n",
    "    (board[4]==board[5]==board[6]!=' ') or\\\n",
    "    (board[7]==board[8]==board[9]!=' ') or\\\n",
    "    (board[1]==board[4]==board[7]!=' ') or\\\n",
    "    (board[2]==board[5]==board[8]!=' ') or\\\n",
    "    (board[3]==board[6]==board[9]!=' ') or\\\n",
    "    (board[1]==board[5]==board[9]!=' ') or\\\n",
    "    (board[3]==board[5]==board[7]!=' '):\n",
    "        state['win'] = True\n",
    "        state['continue'] = False\n",
    "        \n",
    "    elif no_spaces(board):\n",
    "        state['tie'] = True\n",
    "        state['continue'] = False\n",
    "    \n",
    "    return state"
   ]
  },
  {
   "cell_type": "code",
   "execution_count": null,
   "metadata": {},
   "outputs": [],
   "source": [
    "if __name__ == '__main__':\n",
    "    \n",
    "    play = True\n",
    "    while play:\n",
    "        \n",
    "        state = {'win':False, 'tie':False, 'continue':True}\n",
    "        board = [' ' for i in range(11)]    #we don't use the first object board[0],\n",
    "        turn = 0                            #we want the ttt placement to match with numpad\n",
    "\n",
    "        marks = player1_chooses_mark()      #marks is a tuple\n",
    "        mark_1 = marks[0]\n",
    "        mark_2 = marks[1]\n",
    "\n",
    "        display_board(board)\n",
    "\n",
    "        while state['continue']:\n",
    "\n",
    "            if turn%2==0:                   #player1\n",
    "                input_mark(board, mark_1)\n",
    "                player_num = 1\n",
    "            else:                           #player2\n",
    "                input_mark(board, mark_2)\n",
    "                player_num = 2\n",
    "\n",
    "            state = check_state(board, state)\n",
    "            display_board(board)\n",
    "            turn += 1\n",
    "\n",
    "        if state['win']:\n",
    "            print(f'Player {player_num} wins!\\n')\n",
    "        elif state['tie']:\n",
    "            print(\"It's a tie!\")\n",
    "\n",
    "        # replay\n",
    "        while True:\n",
    "            play_again = input('Do you want to play again? (y/n): ').lower()\n",
    "            if play_again == 'y':\n",
    "                play = True\n",
    "                break\n",
    "            elif play_again == 'n':\n",
    "                play = False\n",
    "                break\n",
    "        \n",
    "    print('Ciao')"
   ]
  },
  {
   "cell_type": "code",
   "execution_count": null,
   "metadata": {},
   "outputs": [],
   "source": []
  }
 ],
 "metadata": {
  "kernelspec": {
   "display_name": "Python 3",
   "language": "python",
   "name": "python3"
  },
  "language_info": {
   "codemirror_mode": {
    "name": "ipython",
    "version": 3
   },
   "file_extension": ".py",
   "mimetype": "text/x-python",
   "name": "python",
   "nbconvert_exporter": "python",
   "pygments_lexer": "ipython3",
   "version": "3.7.3"
  }
 },
 "nbformat": 4,
 "nbformat_minor": 2
}
